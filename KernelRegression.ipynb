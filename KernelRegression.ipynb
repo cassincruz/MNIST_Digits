{
 "cells": [
  {
   "attachments": {},
   "cell_type": "markdown",
   "metadata": {},
   "source": [
    "# MNIST Classification - Kernel Regression"
   ]
  },
  {
   "attachments": {},
   "cell_type": "markdown",
   "metadata": {},
   "source": [
    "## Importing packages & data"
   ]
  },
  {
   "cell_type": "code",
   "execution_count": 176,
   "metadata": {},
   "outputs": [],
   "source": [
    "# Importing packages\n",
    "import numpy as np\n",
    "import pandas as pd\n",
    "import matplotlib.pyplot as plt\n",
    "\n",
    "from sklearn.decomposition import PCA\n",
    "from sklearn.preprocessing import StandardScaler\n",
    "from sklearn.datasets import fetch_openml\n",
    "from sklearn.model_selection import train_test_split\n",
    "from sklearn.kernel_ridge import KernelRidge\n",
    "from sklearn.model_selection import GridSearchCV\n",
    "\n",
    "import pickle\n",
    "from tqdm import tqdm\n"
   ]
  },
  {
   "cell_type": "code",
   "execution_count": 177,
   "metadata": {},
   "outputs": [],
   "source": [
    "# Importing data\n",
    "dl_path = './MNIST'\n",
    "\n",
    "# Run first time to download dataset\n",
    "#mnist = fetch_openml('mnist_784', version=1, data_home=dl_path)\n",
    "\n",
    "# After fetching and processing for the first time\n",
    "#with open('./MNIST/mnist_processed.pkl', 'wb') as f:\n",
    "#    pickle.dump(mnist, f)\n",
    "\n",
    "# Pickled data for quick retrieval\n",
    "with open('./MNIST/mnist_processed.pkl', 'rb') as f:\n",
    "    mnist = pickle.load(f)"
   ]
  },
  {
   "attachments": {},
   "cell_type": "markdown",
   "metadata": {},
   "source": [
    "## Classification with kernel regression & PCA\n",
    "\n",
    "Kernel regression is a classical ML method for classification tasks. We begin by reducing the dimensionality of our data using PCA, then use a grid search to find optimal kernel parameters. "
   ]
  },
  {
   "attachments": {},
   "cell_type": "markdown",
   "metadata": {},
   "source": [
    "### Prepping data\n",
    "- Resampling (undersampling to ensure equal distribution of labels)\n",
    "- Splitting into train/test\n",
    "- Scaling data to normalize\n",
    "- Applying PCA"
   ]
  },
  {
   "cell_type": "code",
   "execution_count": 178,
   "metadata": {},
   "outputs": [
    {
     "data": {
      "image/png": "[encoded data removed]",
      "text/plain": [
       "<Figure size 640x480 with 1 Axes>"
      ]
     },
     "metadata": {},
     "output_type": "display_data"
    },
    {
     "name": "stdout",
     "output_type": "stream",
     "text": [
      "Number of components for 95% variance:  186\n"
     ]
    }
   ],
   "source": [
    "# Splitting into train/test data\n",
    "X, y = mnist[\"data\"], mnist[\"target\"]\n",
    "\n",
    "X_train, X_test, y_train, y_test = train_test_split(X, y, train_size=1000, random_state=42, stratify=y)\n",
    "\n",
    "X_train, X_test, y_train, y_test = X_train.reset_index(drop=True), X_test.reset_index(drop=True), y_train.reset_index(drop=True), y_test.reset_index(drop=True)\n",
    "\n",
    "# Undersampling training set to remove sampling bias\n",
    "unique, counts = np.unique(y_train, return_counts=True)\n",
    "min_samples = min(counts)\n",
    "\n",
    "sample_ids = []\n",
    "for u in unique :\n",
    "    class_samples = y_train[y_train == u].index.to_numpy()\n",
    "\n",
    "    random_indices = np.random.choice(len(class_samples), min_samples, replace=False)\n",
    "    sample_ids.extend(class_samples[random_indices])\n",
    "\n",
    "X_train, y_train = X_train.iloc[sample_ids], y_train.iloc[sample_ids]\n",
    "\n",
    "# Scaling features\n",
    "scaler = StandardScaler()\n",
    "train_features = scaler.fit_transform(X_train)\n",
    "test_features = scaler.transform(X_test)\n",
    "\n",
    "# Applying PCA and visualizing explained variance\n",
    "pca = PCA().fit(train_features)\n",
    "\n",
    "plt.figure()\n",
    "plt.plot(np.cumsum(pca.explained_variance_ratio_))\n",
    "plt.xlabel('Number of Components')\n",
    "plt.ylabel('Variance (%)')\n",
    "plt.title('Explained Variance')\n",
    "plt.show()\n",
    "\n",
    "# Keeping modes for 95% variance\n",
    "pca_95 = PCA(0.95)  # 0.95 is the explained variance we want to preserve\n",
    "train_features = pca_95.fit_transform(train_features)\n",
    "test_features = pca_95.transform(test_features)\n",
    "\n",
    "print(\"Number of components for 95% variance: \", pca_95.n_components_)"
   ]
  },
  {
   "attachments": {},
   "cell_type": "markdown",
   "metadata": {},
   "source": [
    "## Building classifier\n",
    "We will use a one-versus-rest (OvR) classification method, i.e. we create separate classifiers for each digit. "
   ]
  },
  {
   "cell_type": "code",
   "execution_count": 179,
   "metadata": {},
   "outputs": [
    {
     "name": "stderr",
     "output_type": "stream",
     "text": [
      "100%|██████████| 10/10 [00:23<00:00,  2.32s/it]\n"
     ]
    }
   ],
   "source": [
    "digits = '0123456789'\n",
    "classifiers = []\n",
    "\n",
    "params = {'alpha': np.linspace(0.001, 0.1, 5), \n",
    "          'gamma': np.linspace(0.0001, 0.01, 5)}\n",
    "\n",
    "for digit in tqdm(digits):\n",
    "    kr = GridSearchCV(KernelRidge(kernel='rbf'), param_grid=params, cv=5)\n",
    "    kr.fit(train_features, (y_train == digit).astype(int))\n",
    "\n",
    "    classifiers.append(kr)\n",
    "\n",
    "# Building classification function\n",
    "def classify(X) : \n",
    "    return np.array([kr.predict(X.reshape(1,-1)) for kr in classifiers]).argmax()"
   ]
  },
  {
   "attachments": {},
   "cell_type": "markdown",
   "metadata": {},
   "source": [
    "## Testing performance"
   ]
  },
  {
   "cell_type": "code",
   "execution_count": 180,
   "metadata": {},
   "outputs": [
    {
     "name": "stderr",
     "output_type": "stream",
     "text": [
      "100%|██████████| 1000/1000 [00:02<00:00, 364.90it/s]"
     ]
    },
    {
     "name": "stdout",
     "output_type": "stream",
     "text": [
      "Accuracy: 0.889\n"
     ]
    },
    {
     "name": "stderr",
     "output_type": "stream",
     "text": [
      "\n"
     ]
    }
   ],
   "source": [
    "results = []\n",
    "n_samples = int(1e3)\n",
    "sample_ids = np.random.choice(test_features.shape[0], n_samples, replace=False)\n",
    "for sample in tqdm(test_features[sample_ids]) : \n",
    "    results.append(classify(sample))\n",
    "\n",
    "results = np.array(results)\n",
    "accuracy = (results == y_test[sample_ids].astype(int)).sum()/results.shape[0]\n",
    "missed_labels = np.where(results != y_test[sample_ids].astype(int))[0]\n",
    "\n",
    "print(f\"Accuracy: {accuracy}\")"
   ]
  },
  {
   "cell_type": "code",
   "execution_count": 184,
   "metadata": {},
   "outputs": [
    {
     "data": {
      "text/plain": [
       "array([ 21,  32,  49,  52,  58,  66,  79,  87,  94, 100, 102, 117, 125,\n",
       "       131, 132, 149, 156, 160, 161, 170, 171, 176, 182, 185, 186, 192,\n",
       "       222, 223, 241, 256, 278, 284, 301, 306, 324, 326, 337, 340, 348,\n",
       "       359, 364, 374, 376, 377, 379, 394, 409, 414, 416, 419, 445, 446,\n",
       "       451, 471, 493, 517, 522, 528, 558, 567, 573, 589, 591, 598, 615,\n",
       "       622, 629, 631, 651, 655, 664, 667, 675, 689, 690, 693, 710, 720,\n",
       "       726, 735, 742, 746, 754, 758, 771, 772, 773, 794, 822, 828, 854,\n",
       "       855, 876, 885, 886, 904, 911, 917, 919, 922, 924, 928, 943, 950,\n",
       "       961, 967, 974, 980, 981, 984, 997])"
      ]
     },
     "execution_count": 184,
     "metadata": {},
     "output_type": "execute_result"
    }
   ],
   "source": [
    "missed_labels"
   ]
  },
  {
   "cell_type": "code",
   "execution_count": 185,
   "metadata": {},
   "outputs": [
    {
     "name": "stdout",
     "output_type": "stream",
     "text": [
      "Label: 8. Classified: 8.\n"
     ]
    },
    {
     "data": {
      "image/png": "[encoded data removed]",
      "text/plain": [
       "<Figure size 640x480 with 1 Axes>"
      ]
     },
     "metadata": {},
     "output_type": "display_data"
    }
   ],
   "source": [
    "# Visualizing given test samples\n",
    "n = 21\n",
    "plt.imshow(X_test.iloc[n].to_numpy().reshape(28,28))\n",
    "print(f\"Label: {y_test.iloc[n]}. Classified: {classify(test_features[n])}.\")"
   ]
  },
  {
   "attachments": {},
   "cell_type": "markdown",
   "metadata": {},
   "source": [
    "### Quick detour: Exploring PCA"
   ]
  },
  {
   "cell_type": "code",
   "execution_count": 156,
   "metadata": {},
   "outputs": [],
   "source": [
    "pca_2 = PCA(2)\n",
    "X_fitted = pca_2.fit_transform(X_train)\n"
   ]
  },
  {
   "cell_type": "code",
   "execution_count": 187,
   "metadata": {},
   "outputs": [],
   "source": [
    "pca_2 = PCA(25)\n",
    "X_fitted = pca_2.fit_transform(X_train)\n",
    "\n",
    "pc1_min, pc1_max, pc2_min, pc2_max = X_fitted[:,0].min(), X_fitted[:,0].max(), X_fitted[:,1].min(), X_fitted[:,1].max()\n",
    "pc1, pc2 = np.meshgrid(np.linspace(pc1_min, pc1_max, 100), np.linspace(pc2_min, pc2_max, 100))\n",
    "\n"
   ]
  },
  {
   "cell_type": "code",
   "execution_count": 193,
   "metadata": {},
   "outputs": [],
   "source": [
    "from sklearn.neighbors import NearestNeighbors\n",
    "\n",
    "# Fit NearestNeighbors with X_fitted\n",
    "nn = NearestNeighbors(n_neighbors=1).fit(X_fitted)\n",
    "\n",
    "# Create an array of points from the meshgrid\n",
    "mesh_points = np.c_[pc1.ravel(), pc2.ravel()]\n",
    "\n",
    "# Find the nearest neighbors from X_fitted for each point in mesh_points\n",
    "distances, indices = nn.kneighbors(mesh_points)\n",
    "\n",
    "# If you want to get the coordinates of the nearest points, you can do the following:\n",
    "nearest_points = X_fitted[indices.ravel()]\n"
   ]
  },
  {
   "cell_type": "code",
   "execution_count": 200,
   "metadata": {},
   "outputs": [
    {
     "data": {
      "text/plain": [
       "array([[ -9.35756015, -17.48024544],\n",
       "       [ -8.94097693, -17.48024544],\n",
       "       [ -8.52439371, -17.48024544],\n",
       "       ...,\n",
       "       [ 31.05101218,  28.34962041],\n",
       "       [ 31.4675954 ,  28.34962041],\n",
       "       [ 31.88417862,  28.34962041]])"
      ]
     },
     "execution_count": 200,
     "metadata": {},
     "output_type": "execute_result"
    }
   ],
   "source": [
    "mesh_points"
   ]
  },
  {
   "cell_type": "code",
   "execution_count": 201,
   "metadata": {},
   "outputs": [
    {
     "data": {
      "text/plain": [
       "array([[ -2.65851247, -12.57706648],\n",
       "       [ -2.65851247, -12.57706648],\n",
       "       [ -2.65851247, -12.57706648],\n",
       "       ...,\n",
       "       [ 21.77057279,  25.01713753],\n",
       "       [ 21.77057279,  25.01713753],\n",
       "       [ 21.77057279,  25.01713753]])"
      ]
     },
     "execution_count": 201,
     "metadata": {},
     "output_type": "execute_result"
    }
   ],
   "source": [
    "nearest_points "
   ]
  },
  {
   "cell_type": "code",
   "execution_count": 203,
   "metadata": {},
   "outputs": [
    {
     "data": {
      "text/plain": [
       "<matplotlib.collections.PathCollection at 0x168aa1970>"
      ]
     },
     "execution_count": 203,
     "metadata": {},
     "output_type": "execute_result"
    },
    {
     "data": {
      "image/png": "[encoded data removed]",
      "text/plain": [
       "<Figure size 640x480 with 1 Axes>"
      ]
     },
     "metadata": {},
     "output_type": "display_data"
    }
   ],
   "source": [
    "nearest_points"
   ]
  },
  {
   "cell_type": "code",
   "execution_count": null,
   "metadata": {},
   "outputs": [],
   "source": []
  }
 ],
 "metadata": {
  "kernelspec": {
   "display_name": "base",
   "language": "python",
   "name": "python3"
  },
  "language_info": {
   "codemirror_mode": {
    "name": "ipython",
    "version": 3
   },
   "file_extension": ".py",
   "mimetype": "text/x-python",
   "name": "python",
   "nbconvert_exporter": "python",
   "pygments_lexer": "ipython3",
   "version": "3.9.16"
  },
  "orig_nbformat": 4
 },
 "nbformat": 4,
 "nbformat_minor": 2
}
