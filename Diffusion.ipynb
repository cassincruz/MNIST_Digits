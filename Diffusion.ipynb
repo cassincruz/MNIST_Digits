{
 "cells": [
  {
   "attachments": {},
   "cell_type": "markdown",
   "metadata": {},
   "source": [
    "# MNIST Diffusion Model"
   ]
  },
  {
   "cell_type": "code",
   "execution_count": 1,
   "metadata": {},
   "outputs": [],
   "source": [
    "# Importing packages\n",
    "import numpy as np\n",
    "import pandas as pd\n",
    "import matplotlib.pyplot as plt\n",
    "\n",
    "from sklearn.decomposition import PCA\n",
    "from sklearn.preprocessing import StandardScaler\n",
    "from sklearn.datasets import fetch_openml\n",
    "from sklearn.model_selection import train_test_split\n",
    "\n",
    "import torch\n",
    "from torch.utils.data import DataLoader, TensorDataset\n",
    "import torch.nn as nn\n",
    "import torch.nn.functional as F\n",
    "\n",
    "import pickle\n",
    "from tqdm import tqdm"
   ]
  },
  {
   "cell_type": "code",
   "execution_count": 2,
   "metadata": {},
   "outputs": [],
   "source": [
    "# Importing data\n",
    "dl_path = './MNIST'\n",
    "\n",
    "# Run first time to download dataset\n",
    "#mnist = fetch_openml('mnist_784', version=1, data_home=dl_path)\n",
    "\n",
    "# After fetching and processing for the first time\n",
    "#with open('./MNIST/mnist_processed.pkl', 'wb') as f:\n",
    "#    pickle.dump(mnist, f)\n",
    "\n",
    "# Pickled data for quick retrieval\n",
    "with open('./MNIST/mnist_processed.pkl', 'rb') as f:\n",
    "    mnist = pickle.load(f)"
   ]
  },
  {
   "cell_type": "code",
   "execution_count": 3,
   "metadata": {},
   "outputs": [],
   "source": [
    "# Splitting into train/test data\n",
    "X, y = mnist[\"data\"], mnist[\"target\"]\n",
    "\n",
    "X_train, X_test, y_train, y_test = train_test_split(X, y, train_size=10000, random_state=42, stratify=y)\n",
    "\n",
    "X_train, X_test, y_train, y_test = X_train.reset_index(drop=True), X_test.reset_index(drop=True), y_train.reset_index(drop=True), y_test.reset_index(drop=True)\n",
    "\n",
    "# Undersampling training set to remove sampling bias\n",
    "unique, counts = np.unique(y_train, return_counts=True)\n",
    "min_samples = min(counts)\n",
    "\n",
    "sample_ids = []\n",
    "for u in unique :\n",
    "    class_samples = y_train[y_train == u].index.to_numpy()\n",
    "\n",
    "    random_indices = np.random.choice(len(class_samples), min_samples, replace=False)\n",
    "    sample_ids.extend(class_samples[random_indices])\n",
    "\n",
    "X_train, y_train = X_train.iloc[sample_ids], y_train.iloc[sample_ids]\n",
    "\n",
    "# Convert data into PyTorch tensors\n",
    "X_train_tensor = torch.tensor(X_train.values/255.0, dtype=torch.float32)\n",
    "y_train_tensor = torch.tensor(y_train.values.astype(np.int64))\n",
    "X_test_tensor = torch.tensor(X_test.values/255.0, dtype=torch.float32)\n",
    "y_test_tensor = torch.tensor(y_test.values.astype(np.int64))\n",
    "\n",
    "train_dataset = TensorDataset(X_train_tensor, y_train_tensor)\n",
    "test_dataset = TensorDataset(X_test_tensor, y_test_tensor)\n",
    "\n",
    "train_loader = DataLoader(train_dataset, batch_size=32, shuffle=True)\n",
    "test_loader = DataLoader(test_dataset, batch_size=32, shuffle=False)"
   ]
  },
  {
   "cell_type": "code",
   "execution_count": null,
   "metadata": {},
   "outputs": [],
   "source": [
    "class Diffusor(nn.module) :\n",
    "    def __init__(self) :"
   ]
  }
 ],
 "metadata": {
  "kernelspec": {
   "display_name": "base",
   "language": "python",
   "name": "python3"
  },
  "language_info": {
   "codemirror_mode": {
    "name": "ipython",
    "version": 3
   },
   "file_extension": ".py",
   "mimetype": "text/x-python",
   "name": "python",
   "nbconvert_exporter": "python",
   "pygments_lexer": "ipython3",
   "version": "3.9.16"
  },
  "orig_nbformat": 4
 },
 "nbformat": 4,
 "nbformat_minor": 2
}
