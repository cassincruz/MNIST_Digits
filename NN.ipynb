{
 "cells": [
  {
   "attachments": {},
   "cell_type": "markdown",
   "metadata": {},
   "source": [
    "# MNIST Classification - Neural Network"
   ]
  },
  {
   "cell_type": "code",
   "execution_count": 4,
   "metadata": {},
   "outputs": [],
   "source": [
    "# Importing packages\n",
    "import numpy as np\n",
    "import pandas as pd\n",
    "import matplotlib.pyplot as plt\n",
    "\n",
    "from sklearn.decomposition import PCA\n",
    "from sklearn.preprocessing import StandardScaler\n",
    "from sklearn.datasets import fetch_openml\n",
    "from sklearn.model_selection import train_test_split\n",
    "\n",
    "import torch\n",
    "from torch.utils.data import DataLoader, TensorDataset\n",
    "import torch.nn as nn\n",
    "import torch.nn.functional as F\n",
    "\n",
    "import pickle\n",
    "from tqdm import tqdm"
   ]
  },
  {
   "cell_type": "code",
   "execution_count": 2,
   "metadata": {},
   "outputs": [],
   "source": [
    "# Importing data\n",
    "dl_path = './MNIST'\n",
    "\n",
    "# Run first time to download dataset\n",
    "#mnist = fetch_openml('mnist_784', version=1, data_home=dl_path)\n",
    "\n",
    "# After fetching and processing for the first time\n",
    "#with open('./MNIST/mnist_processed.pkl', 'wb') as f:\n",
    "#    pickle.dump(mnist, f)\n",
    "\n",
    "# Pickled data for quick retrieval\n",
    "with open('./MNIST/mnist_processed.pkl', 'rb') as f:\n",
    "    mnist = pickle.load(f)"
   ]
  },
  {
   "attachments": {},
   "cell_type": "markdown",
   "metadata": {},
   "source": [
    "### Prepping data\n",
    "- Resampling (undersampling to ensure equal distribution of labels)\n",
    "- Splitting into train/test\n",
    "- Scaling data to normalize\n",
    "- Applying PCA"
   ]
  },
  {
   "cell_type": "code",
   "execution_count": 5,
   "metadata": {},
   "outputs": [],
   "source": [
    "# Splitting into train/test data\n",
    "X, y = mnist[\"data\"], mnist[\"target\"]\n",
    "\n",
    "X_train, X_test, y_train, y_test = train_test_split(X, y, train_size=1000, random_state=42, stratify=y)\n",
    "\n",
    "X_train, X_test, y_train, y_test = X_train.reset_index(drop=True), X_test.reset_index(drop=True), y_train.reset_index(drop=True), y_test.reset_index(drop=True)\n",
    "\n",
    "# Undersampling training set to remove sampling bias\n",
    "unique, counts = np.unique(y_train, return_counts=True)\n",
    "min_samples = min(counts)\n",
    "\n",
    "sample_ids = []\n",
    "for u in unique :\n",
    "    class_samples = y_train[y_train == u].index.to_numpy()\n",
    "\n",
    "    random_indices = np.random.choice(len(class_samples), min_samples, replace=False)\n",
    "    sample_ids.extend(class_samples[random_indices])\n",
    "\n",
    "X_train, y_train = X_train.iloc[sample_ids], y_train.iloc[sample_ids]"
   ]
  },
  {
   "attachments": {},
   "cell_type": "markdown",
   "metadata": {},
   "source": [
    "## Fully connected network\n",
    "For a fully connected network we will use PCA to reduce the dimensionality of the input layer"
   ]
  },
  {
   "cell_type": "code",
   "execution_count": 36,
   "metadata": {},
   "outputs": [
    {
     "data": {
      "image/png": "[encoded data removed]",
      "text/plain": [
       "<Figure size 640x480 with 1 Axes>"
      ]
     },
     "metadata": {},
     "output_type": "display_data"
    },
    {
     "name": "stdout",
     "output_type": "stream",
     "text": [
      "Number of components for 95% variance:  188\n"
     ]
    }
   ],
   "source": [
    "# Scaling features\n",
    "scaler = StandardScaler()\n",
    "train_features = scaler.fit_transform(X_train)\n",
    "test_features = scaler.transform(X_test)\n",
    "\n",
    "# Applying PCA and visualizing explained variance\n",
    "pca = PCA().fit(train_features)\n",
    "\n",
    "plt.figure()\n",
    "plt.plot(np.cumsum(pca.explained_variance_ratio_))\n",
    "plt.xlabel('Number of Components')\n",
    "plt.ylabel('Variance (%)')\n",
    "plt.title('Explained Variance')\n",
    "plt.show()\n",
    "\n",
    "# Keeping modes for 95% variance\n",
    "pca_95 = PCA(0.95)  # 0.95 is the explained variance we want to preserve\n",
    "train_features = pca_95.fit_transform(train_features)\n",
    "test_features = pca_95.transform(test_features)\n",
    "\n",
    "print(\"Number of components for 95% variance: \", pca_95.n_components_)"
   ]
  },
  {
   "cell_type": "code",
   "execution_count": 37,
   "metadata": {},
   "outputs": [],
   "source": [
    "# Convert data into PyTorch tensors\n",
    "X_train_tensor = torch.tensor(train_features, dtype=torch.float32)\n",
    "y_train_tensor = torch.tensor(y_train.values.astype(np.int64))\n",
    "X_test_tensor = torch.tensor(test_features, dtype=torch.float32)\n",
    "y_test_tensor = torch.tensor(y_test.values.astype(np.int64))\n",
    "\n",
    "train_dataset = TensorDataset(X_train_tensor, y_train_tensor)\n",
    "test_dataset = TensorDataset(X_test_tensor, y_test_tensor)\n",
    "\n",
    "train_loader = DataLoader(train_dataset, batch_size=32, shuffle=True)\n",
    "test_loader = DataLoader(test_dataset, batch_size=32, shuffle=False)"
   ]
  },
  {
   "cell_type": "code",
   "execution_count": 38,
   "metadata": {},
   "outputs": [],
   "source": [
    "# Defining fully connected network \n",
    "class FCN(nn.Module):\n",
    "    def __init__(self, input_dim):\n",
    "        super(FCN, self).__init__()\n",
    "        self.fc1 = nn.Linear(input_dim, 512)\n",
    "        self.fc2 = nn.Linear(512, 256)\n",
    "        self.fc3 = nn.Linear(256, 10)  # 10 classes for MNIST\n",
    "\n",
    "    def forward(self, x):\n",
    "        x = F.relu(self.fc1(x))\n",
    "        x = F.relu(self.fc2(x))\n",
    "        return F.log_softmax(self.fc3(x), dim=1)\n",
    "    \n",
    "\n",
    "def train_model(model, train_loader, test_loader, num_epochs=10):\n",
    "    device = torch.device(\"cuda\" if torch.cuda.is_available() else \"cpu\")\n",
    "    model = model.to(device)\n",
    "    optimizer = torch.optim.Adam(model.parameters(), lr=0.001)\n",
    "    criterion = nn.CrossEntropyLoss()\n",
    "\n",
    "    for epoch in range(num_epochs):\n",
    "        model.train()\n",
    "        for data, target in train_loader:\n",
    "            data, target = data.to(device), target.to(device)\n",
    "            optimizer.zero_grad()\n",
    "            output = model(data)\n",
    "            loss = criterion(output, target)\n",
    "            loss.backward()\n",
    "            optimizer.step()\n",
    "\n",
    "        # Validate\n",
    "        model.eval()\n",
    "        correct = 0\n",
    "        total = 0\n",
    "        with torch.no_grad():\n",
    "            for data, target in test_loader:\n",
    "                data, target = data.to(device), target.to(device)\n",
    "                outputs = model(data)\n",
    "                _, predicted = torch.max(outputs, 1)\n",
    "                total += target.size(0)\n",
    "                correct += (predicted == target).sum().item()\n",
    "        print(f\"Epoch {epoch+1}/{num_epochs}, Accuracy: {100 * correct / total:.2f}%\")"
   ]
  },
  {
   "cell_type": "code",
   "execution_count": 40,
   "metadata": {},
   "outputs": [
    {
     "name": "stdout",
     "output_type": "stream",
     "text": [
      "Epoch 1/10, Accuracy: 83.20%\n",
      "Epoch 2/10, Accuracy: 87.23%\n",
      "Epoch 3/10, Accuracy: 87.66%\n",
      "Epoch 4/10, Accuracy: 88.07%\n",
      "Epoch 5/10, Accuracy: 88.17%\n",
      "Epoch 6/10, Accuracy: 88.19%\n",
      "Epoch 7/10, Accuracy: 88.23%\n",
      "Epoch 8/10, Accuracy: 88.17%\n",
      "Epoch 9/10, Accuracy: 88.30%\n",
      "Epoch 10/10, Accuracy: 88.28%\n"
     ]
    }
   ],
   "source": [
    "# Training model \n",
    "model = FCN(train_features.shape[1])\n",
    "train_model(model, train_loader, test_loader, num_epochs=10)"
   ]
  },
  {
   "attachments": {},
   "cell_type": "markdown",
   "metadata": {},
   "source": [
    "## Convolutional Network"
   ]
  },
  {
   "cell_type": "code",
   "execution_count": 42,
   "metadata": {},
   "outputs": [],
   "source": [
    "train_features = X_train.values.reshape(-1, 1, 28, 28).astype(np.float32) / 255.0\n",
    "test_features = X_test.values.reshape(-1, 1, 28, 28).astype(np.float32) / 255.0\n",
    "\n",
    "# Convert data and labels to tensors\n",
    "train_data = TensorDataset(torch.tensor(train_features), torch.tensor(y_train.values.astype(np.int64)))\n",
    "test_data = TensorDataset(torch.tensor(test_features), torch.tensor(y_test.values.astype(np.int64)))\n",
    "\n",
    "# Create dataloaders\n",
    "train_loader = DataLoader(train_data, batch_size=32, shuffle=True)\n",
    "test_loader = DataLoader(test_data, batch_size=32, shuffle=False)"
   ]
  },
  {
   "cell_type": "code",
   "execution_count": 43,
   "metadata": {},
   "outputs": [],
   "source": [
    "# Defining network architecture\n",
    "class CNN(nn.Module):\n",
    "    def __init__(self):\n",
    "        super(CNN, self).__init__()\n",
    "        self.conv1 = nn.Conv2d(1, 32, kernel_size=3, stride=1, padding=1)\n",
    "        self.pool = nn.MaxPool2d(kernel_size=2, stride=2, padding=0)\n",
    "        self.conv2 = nn.Conv2d(32, 64, kernel_size=3, stride=1, padding=1)\n",
    "        self.fc1 = nn.Linear(64*7*7, 128)  # The dimension here is dependent on the output size of your layers.\n",
    "        self.fc2 = nn.Linear(128, 10)\n",
    "\n",
    "    def forward(self, x):\n",
    "        x = F.relu(self.conv1(x))\n",
    "        x = self.pool(x)\n",
    "        x = F.relu(self.conv2(x))\n",
    "        x = self.pool(x)\n",
    "        x = x.view(-1, 64*7*7)  # Flatten\n",
    "        x = F.relu(self.fc1(x))\n",
    "        x = self.fc2(x)\n",
    "        return F.log_softmax(x, dim=1)\n"
   ]
  },
  {
   "cell_type": "code",
   "execution_count": 44,
   "metadata": {},
   "outputs": [
    {
     "name": "stdout",
     "output_type": "stream",
     "text": [
      "Epoch 1/15, Accuracy: 63.80%\n",
      "Epoch 2/15, Accuracy: 82.31%\n",
      "Epoch 3/15, Accuracy: 88.55%\n",
      "Epoch 4/15, Accuracy: 90.49%\n",
      "Epoch 5/15, Accuracy: 91.07%\n",
      "Epoch 6/15, Accuracy: 91.40%\n",
      "Epoch 7/15, Accuracy: 91.42%\n",
      "Epoch 8/15, Accuracy: 92.47%\n",
      "Epoch 9/15, Accuracy: 92.90%\n",
      "Epoch 10/15, Accuracy: 93.20%\n",
      "Epoch 11/15, Accuracy: 93.68%\n",
      "Epoch 12/15, Accuracy: 93.38%\n",
      "Epoch 13/15, Accuracy: 93.64%\n",
      "Epoch 14/15, Accuracy: 94.07%\n",
      "Epoch 15/15, Accuracy: 94.43%\n"
     ]
    }
   ],
   "source": [
    "# Training model \n",
    "model = CNN()\n",
    "train_model(model, train_loader, test_loader, num_epochs=15)"
   ]
  },
  {
   "cell_type": "code",
   "execution_count": null,
   "metadata": {},
   "outputs": [],
   "source": []
  }
 ],
 "metadata": {
  "kernelspec": {
   "display_name": "base",
   "language": "python",
   "name": "python3"
  },
  "language_info": {
   "codemirror_mode": {
    "name": "ipython",
    "version": 3
   },
   "file_extension": ".py",
   "mimetype": "text/x-python",
   "name": "python",
   "nbconvert_exporter": "python",
   "pygments_lexer": "ipython3",
   "version": "3.9.16"
  },
  "orig_nbformat": 4
 },
 "nbformat": 4,
 "nbformat_minor": 2
}
